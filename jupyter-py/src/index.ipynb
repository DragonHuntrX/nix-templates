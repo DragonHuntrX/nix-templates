{
 "cells": [
  {
   "cell_type": "markdown",
   "metadata": {
    "slideshow": {
     "slide_type": "slide"
    }
   },
   "source": [
    "# Hello World"
   ]
  },
  {
   "cell_type": "code",
   "execution_count": 1,
   "metadata": {
    "vscode": {
     "languageId": "python"
    }
   },
   "outputs": [
    {
     "name": "stdout",
     "output_type": "stream",
     "text": [
      "Hello World!\n"
     ]
    },
    {
     "data": {
      "text/plain": [
       "array([-0.24932633, -0.12025182,  0.40522732, ...,  1.79164013,\n",
       "       -0.11844668,  0.50005763])"
      ]
     },
     "execution_count": 1,
     "metadata": {},
     "output_type": "execute_result"
    }
   ],
   "source": [
    "import numpy as np\n",
    "\n",
    "print(\"Hello World!\")\n",
    "\n",
    "rng = np.random.default_rng()\n",
    "samples = rng.normal(size=2500)\n",
    "samples"
   ]
  }
 ],
 "metadata": {
  "kernelspec": {
   "display_name": "Python Data Science",
   "language": "python",
   "name": "py-data-science"
  },
  "orig_nbformat": 4,
  "vscode": {
   "interpreter": {
    "hash": "634f7b3f0771b29cb450df41347f1b9b9d3c3f70d3e9f2d1d653cc4756b61ef3"
   }
  }
 },
 "nbformat": 4,
 "nbformat_minor": 2
}
